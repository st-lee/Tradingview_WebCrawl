{
 "cells": [
  {
   "cell_type": "markdown",
   "id": "140f2436",
   "metadata": {},
   "source": [
    "# Requirements:\n",
    "- python3.8\n",
    "- download `chromedriver` (https://chromedriver.chromium.org/)\n",
    "\n",
    "# Steps:\n",
    "1. create a virtual env: conda create -n TVdata_py38 python=3.8\n",
    "2. activate it: source activate TVdata_py38\n",
    "3. pip install -r requirements.txt\n",
    "4. conda install pandas\n"
   ]
  },
  {
   "cell_type": "code",
   "execution_count": 1,
   "id": "6fd324a7",
   "metadata": {},
   "outputs": [],
   "source": [
    "import time\n",
    "import pandas as pd\n",
    "from tradingview_utility import *"
   ]
  },
  {
   "cell_type": "code",
   "execution_count": 2,
   "id": "93ddad55",
   "metadata": {},
   "outputs": [],
   "source": [
    "# Set first data-date\n",
    "First_DATE = '20200101'\n",
    "\n",
    "# Set Assets\n",
    "work_dir = '~/Documents/projects/python/auto_TVdata/'\n",
    "ASX = pd.read_csv(work_dir + 'australia_2022-09-02.csv')\n",
    "ASSETS = ASX.Ticker.astype('str').tolist()\n",
    "ASSETS = ASSETS[:2]"
   ]
  },
  {
   "cell_type": "code",
   "execution_count": 3,
   "id": "f9cf6f27",
   "metadata": {},
   "outputs": [
    {
     "data": {
      "text/plain": [
       "['BHP', 'CBA']"
      ]
     },
     "execution_count": 3,
     "metadata": {},
     "output_type": "execute_result"
    }
   ],
   "source": [
    "ASSETS"
   ]
  },
  {
   "cell_type": "code",
   "execution_count": 4,
   "id": "d6833b12",
   "metadata": {},
   "outputs": [
    {
     "name": "stdout",
     "output_type": "stream",
     "text": [
      "#-------- Log In OK --------#\n"
     ]
    }
   ],
   "source": [
    "# Sing-in Tradingview\n",
    "username = 'xxxxxxxx@gmail.com'\n",
    "password = 'oooooooo'\n",
    "options = TDV_utlit.Download_path('~/Documents/projects/python/auto_TVdata/australia/data/')\n",
    "\n",
    "TDV_utlit.Sign_in(username=username, password=password, options=options)"
   ]
  },
  {
   "cell_type": "code",
   "execution_count": 5,
   "id": "14351e49",
   "metadata": {},
   "outputs": [
    {
     "name": "stdout",
     "output_type": "stream",
     "text": [
      "BHP  Done\n",
      "CBA  Done\n"
     ]
    }
   ],
   "source": [
    "# Download CSV\n",
    "for asset in ASSETS:\n",
    "    TDV_utlit.Search_asset(asset)\n",
    "    try:\n",
    "        TDV_utlit.Scroll_to_Date(First_DATE)\n",
    "        TDV_utlit.Download_CSV()\n",
    "        print(asset, \" Done\")\n",
    "    except Exception as e:\n",
    "        print(asset, \" Failed\")\n",
    "        "
   ]
  },
  {
   "cell_type": "code",
   "execution_count": 6,
   "id": "3cb57351",
   "metadata": {},
   "outputs": [],
   "source": [
    "time.sleep(2)\n",
    "TDV_utlit.Close_Browser()"
   ]
  },
  {
   "cell_type": "code",
   "execution_count": null,
   "id": "a509eaf9",
   "metadata": {},
   "outputs": [],
   "source": []
  },
  {
   "cell_type": "code",
   "execution_count": null,
   "id": "58d84382",
   "metadata": {},
   "outputs": [],
   "source": []
  }
 ],
 "metadata": {
  "kernelspec": {
   "display_name": "TVdata_py38",
   "language": "python",
   "name": "tvdata_py38"
  },
  "language_info": {
   "codemirror_mode": {
    "name": "ipython",
    "version": 3
   },
   "file_extension": ".py",
   "mimetype": "text/x-python",
   "name": "python",
   "nbconvert_exporter": "python",
   "pygments_lexer": "ipython3",
   "version": "3.8.13"
  }
 },
 "nbformat": 4,
 "nbformat_minor": 5
}
